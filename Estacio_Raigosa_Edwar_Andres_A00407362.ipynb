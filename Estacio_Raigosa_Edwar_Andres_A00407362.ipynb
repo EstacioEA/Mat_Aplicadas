{
  "nbformat": 4,
  "nbformat_minor": 0,
  "metadata": {
    "colab": {
      "provenance": [],
      "authorship_tag": "ABX9TyNaNAcfnJQNEXtIalO4L6wM",
      "include_colab_link": true
    },
    "kernelspec": {
      "name": "python3",
      "display_name": "Python 3"
    },
    "language_info": {
      "name": "python"
    }
  },
  "cells": [
    {
      "cell_type": "markdown",
      "metadata": {
        "id": "view-in-github",
        "colab_type": "text"
      },
      "source": [
        "<a href=\"https://colab.research.google.com/github/EstacioEA/Mat_Aplicadas/blob/main/Estacio_Raigosa_Edwar_Andres_A00407362.ipynb\" target=\"_parent\"><img src=\"https://colab.research.google.com/assets/colab-badge.svg\" alt=\"Open In Colab\"/></a>"
      ]
    },
    {
      "cell_type": "code",
      "execution_count": null,
      "metadata": {
        "id": "Mdmo3wlXmZh3"
      },
      "outputs": [],
      "source": []
    },
    {
      "cell_type": "markdown",
      "source": [
        "#Actividad Colab#\n",
        "\n",
        "##Autobiografía.\n",
        "\n",
        "Mi nombre es Edwar Andres Estacio. Nací el 25 de enero de 2007 en un pequeño municipio ubicado al norte del valle del Cauca. En mi infancia fui criado la mayor parte del tiempo por mi abuela que en ese entonces vivía en un pueblo cercano a Roldanillo llamado la Tulia. Mientras tanto, mi madre sacaba nuestro hogar adelante con alguno de los negocios que ha formado a lo largo de su vida. Mi enemigo más intimo y el mejor de mis amigos es mi hermano, Daniel. Siempre fue un motivo de sufrimiento para mi pero a la vez ha sido una de las personas que más ha querido verme triunfar, lo cual ha tenido más peso para mi. No fue hasta la edad de 5 años que me mudé a vivir junto a mi madre y mi hermano. Allí hice mis estudios de primaria y cree alguna de las amistades que más tiempo me han durado. Me gradué de primaria a los 10 años y justo cuando creí que estaba en mi mejor momento llegó la pandemía, la cual ocasionó mi retiro de dicho colegio que me había recibido desde que llegué a Roldanillo. Afortunadamente convencí a mi mejor amigo de pasarnos juntos a un nuevo colegio. Colegio en el que forjariamos los 3 mejores años de nuestra vida escolar y donde nos graduariamos en el año 2023\n",
        "\n",
        "<img src= https://colombiabacana.com/wp-content/uploads/2022/08/roldanillo-municipio-panoramica.jpg>\n",
        "\n",
        "##Top 5 Canciones favoritas\n",
        "1. **Snap out of it.**\n",
        "      >*Artic Monkeys*\n",
        "          >>Alex Turner\n",
        "2. **Sidewalks.**\n",
        "      >*The weeknd (ft Kendrick Lamar)*\n",
        "          >>Abel Tesfaye - Daniel Wilson - Martin McKinney\n",
        "3. **This Love.**\n",
        "      >*Maroon Five*\n",
        "          >>Adam Levine - Antonia Armato\n",
        "4. **Redbone**\n",
        "      >*Childish Gambino*\n",
        "          >>Donald Glover - Gary Lee Cooper - Ludwig Göransson\n",
        "5. **Body Paint**\n",
        "      >*Artick Monkeys*\n",
        "          >>Alex Turner\n",
        "\n",
        "|Asignaturas|Razón|\n",
        "|-----------|-----|\n",
        "|Lógica     |Me gustó muchos los temas y la perspectiva que tomás acerca de los argumentos luego de esta\n",
        "|AyF        |Me gustán las matematicas y resolver problemas|\n",
        "|Probo      |Ayuda a afrontar el cambi colegio/universidad|\n",
        "\n"
      ],
      "metadata": {
        "id": "JcS96KiLma-i"
      }
    }
  ]
}