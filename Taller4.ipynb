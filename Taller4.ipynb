{
  "nbformat": 4,
  "nbformat_minor": 0,
  "metadata": {
    "colab": {
      "provenance": [],
      "collapsed_sections": [
        "HAvDnwGyrYhA",
        "DwGJ_U8trkSE",
        "UnsliPCOPrGe",
        "lbOkjI0DPy0D",
        "UkoIQ_bXTaXg",
        "rImDpC0AmQVn",
        "lDP8_4yVmYL-",
        "qycUGdMUpY74",
        "CR1ou27Kph7j",
        "Ld2pNqKy7JVK",
        "pMQ-PUT2EJsG",
        "Konhd069YazE",
        "mSvO8JnmdBIW",
        "4kf5pa7oG7D6"
      ],
      "include_colab_link": true
    },
    "kernelspec": {
      "name": "python3",
      "display_name": "Python 3"
    },
    "language_info": {
      "name": "python"
    }
  },
  "cells": [
    {
      "cell_type": "markdown",
      "metadata": {
        "id": "view-in-github",
        "colab_type": "text"
      },
      "source": [
        "<a href=\"https://colab.research.google.com/github/EstacioEA/Mat_Aplicadas/blob/main/Taller4.ipynb\" target=\"_parent\"><img src=\"https://colab.research.google.com/assets/colab-badge.svg\" alt=\"Open In Colab\"/></a>"
      ]
    },
    {
      "cell_type": "markdown",
      "source": [
        "## <font color=\"a1106c\">***Taller #4*** </font>\n",
        "*Presentado por: Juan Diego Balanta, Isabella Candado, Edward Estacio y Juan Pablo Martínez*"
      ],
      "metadata": {
        "id": "bvFV7v6B6_Vr"
      }
    },
    {
      "cell_type": "code",
      "source": [
        "import numpy as np\n",
        "import matplotlib.pyplot as plt\n",
        "import sympy as sym"
      ],
      "metadata": {
        "id": "zPBapdrVBI1Y"
      },
      "execution_count": null,
      "outputs": []
    },
    {
      "cell_type": "markdown",
      "source": [
        "##### <font color=\"e45ab2\"> **Encuentre los primeros 4 términos de cada serie**"
      ],
      "metadata": {
        "id": "XERD_u0LrPFp"
      }
    },
    {
      "cell_type": "markdown",
      "source": [
        "###### <font color=\"e45ab2\"> **1.** </font>\n",
        "$\\sum_{k=1}^{∞}\\frac{2k+1}{k}$"
      ],
      "metadata": {
        "id": "HAvDnwGyrYhA"
      }
    },
    {
      "cell_type": "code",
      "source": [
        "import numpy as np\n",
        "n=np.arange(1,5)\n",
        "sum=0\n",
        "for i in n:\n",
        "  s=(2*i+1)/i\n",
        "  print(s)\n",
        "  sum=sum+s\n",
        "print(\"Suma de los primeros 4 terminos: \",sum)"
      ],
      "metadata": {
        "colab": {
          "base_uri": "https://localhost:8080/"
        },
        "id": "9Kuqqw8YuNB4",
        "outputId": "b44fb3c8-05a6-46dc-c545-60f615da5419"
      },
      "execution_count": null,
      "outputs": [
        {
          "output_type": "stream",
          "name": "stdout",
          "text": [
            "3.0\n",
            "2.5\n",
            "2.3333333333333335\n",
            "2.25\n",
            "Suma de los primeros 4 terminos: 10.083333333333334\n"
          ]
        }
      ]
    },
    {
      "cell_type": "markdown",
      "source": [
        "###### <font color=\"e45ab2\"> **4.** </font>\n",
        "$\\sum_{k=1}^{∞}\\frac{(-1)^{k+1}}{k3^k}$"
      ],
      "metadata": {
        "id": "DwGJ_U8trkSE"
      }
    },
    {
      "cell_type": "code",
      "source": [
        "import numpy as np\n",
        "n=np.arange(1,5)\n",
        "sum=0\n",
        "for i in n:\n",
        "  s=(-1)**(i+1)/(i*3**i)\n",
        "  print(s)\n",
        "  sum=sum+s\n",
        "print(\"suma de los primeros 4 terminos: \",sum)"
      ],
      "metadata": {
        "colab": {
          "base_uri": "https://localhost:8080/"
        },
        "id": "ydk9ZhX7uewT",
        "outputId": "244447ad-59f7-4e3a-b3d3-37b6e29974bf"
      },
      "execution_count": null,
      "outputs": [
        {
          "output_type": "stream",
          "name": "stdout",
          "text": [
            "0.3333333333333333\n",
            "-0.05555555555555555\n",
            "0.012345679012345678\n",
            "-0.0030864197530864196\n",
            "suma de los primeros 4 terminos:  0.28703703703703703\n"
          ]
        }
      ]
    },
    {
      "cell_type": "markdown",
      "source": [
        "###### <font color=\"e45ab2\"> **5.** </font>\n",
        "$\\sum_{k=0}^{∞}\\frac{n+1}{n!}$"
      ],
      "metadata": {
        "id": "YZycfsZ8rlw1"
      }
    },
    {
      "cell_type": "code",
      "source": [
        "import numpy as np\n",
        "import math\n",
        "n=np.arange(0,5)\n",
        "sum=0\n",
        "for i in n:\n",
        "  s=(i+1)/math.factorial(i)\n",
        "  print(s)\n",
        "  sum=sum+s\n",
        "print(\"Suma de los primeros 4 terminos: \",sum)"
      ],
      "metadata": {
        "colab": {
          "base_uri": "https://localhost:8080/"
        },
        "id": "WFHRqGbkuxXn",
        "outputId": "25856cbe-da5c-4cdf-a040-ab80ca85fd5e"
      },
      "execution_count": null,
      "outputs": [
        {
          "output_type": "stream",
          "name": "stdout",
          "text": [
            "1.0\n",
            "2.0\n",
            "1.5\n",
            "0.6666666666666666\n",
            "0.20833333333333334\n",
            "Suma de los primeros 4 terminos:  5.375\n"
          ]
        }
      ]
    },
    {
      "cell_type": "markdown",
      "source": [
        "##### <font color=\"e45ab2\"> **Encuentre la suma de la serie telescópica**"
      ],
      "metadata": {
        "id": "UnsliPCOPrGe"
      }
    },
    {
      "cell_type": "markdown",
      "source": [
        "###### <font color=\"e45ab2\"> **11.** </font>\n",
        "Para la siguiente serie $\\sum_{k=1}^{\\infty} \\frac{1}{k(k+1)}$"
      ],
      "metadata": {
        "id": "lbOkjI0DPy0D"
      }
    },
    {
      "cell_type": "markdown",
      "source": [
        "\n",
        "1. Definimos las fracción parcial de la sucesión: $$\\frac{1}{k(k+1)} =\\frac{1}{k} - \\frac{1}{k+1}$$\n",
        "\n",
        "2. Calculamos la suma de las fracciones parciales:\n",
        "$$S_k = \\left[ \\frac{1}{1}-\\frac{1}{2} \\right]+\\left[\\frac{1}{2} - \\frac{1}{3} \\right]+\\left[\\frac{1}{3} - \\frac{1}{4} \\right]...$$\n",
        "\n",
        "3. Hallamos la convergencia:\n",
        "* Como se puede obsevar, si hacemos agrupación, podemos cancelar todos los términos menos el primero $\\frac{1}{1}$.\n",
        "* A este término le restamos el límite de $\\frac{1}{k+1}$:\n",
        "$$\\lim_{k \\to ∞} \\frac{1}{k+1}= 0$$\n",
        "* Por lo tanto, concluimos que la suma converge a $1-0=1$:\n",
        "$$\\sum_{k=1}^{\\infty} \\frac{1}{k(k+1)} = 1$$"
      ],
      "metadata": {
        "id": "rjYaRh95T9e0"
      }
    },
    {
      "cell_type": "code",
      "source": [
        "#demostracion de la convergencia de la serie en codigo\n",
        "total=0\n",
        "for k in range(1,600 + 1):\n",
        " term=1/(k*(k+1))\n",
        " total=total+term\n",
        "print(total)"
      ],
      "metadata": {
        "colab": {
          "base_uri": "https://localhost:8080/"
        },
        "id": "kQcekU6HTmZl",
        "outputId": "866c7171-5c6c-4009-afc8-99c5a717055f"
      },
      "execution_count": null,
      "outputs": [
        {
          "output_type": "stream",
          "name": "stdout",
          "text": [
            "0.9983361064891848\n"
          ]
        }
      ]
    },
    {
      "cell_type": "markdown",
      "source": [
        "##### <font color=\"e45ab2\"> **Determine si la serie geométrica converge o diverge**"
      ],
      "metadata": {
        "id": "OaM85xwMTPO0"
      }
    },
    {
      "cell_type": "markdown",
      "source": [
        "###### <font color=\"e45ab2\"> **15.** </font>\n",
        "$\\sum_{k=1}^{\\infty} 3 \\left( \\frac{1}{5} \\right)^{k-1}$"
      ],
      "metadata": {
        "id": "UkoIQ_bXTaXg"
      }
    },
    {
      "cell_type": "markdown",
      "source": [
        "1. Hallamos la razón: $$3\\left( \\frac{1}{5} \\right)^{k-1} = \\frac{\\left( \\frac{1}{5} \\right)^k}{\\frac{1}{5}}\\cdot 3 = \\left( \\frac{1}{5} \\right)^k \\cdot 15$$\n",
        "$r=\\frac{1}{5}$ y $k_1=3$\n",
        "2. Como $0\\lt r\\lt 1$, entonces:\n",
        "$$S=\\frac{3}{1-\\frac{1}{5}}=\\frac{3}{\\frac{4}{5}}= 3\\cdot \\frac{5}{4}$$\n",
        "\n",
        "3. Hallamos la convergencia:\n",
        "$$\\sum_{k=1}^{\\infty} 3 \\left( \\frac{1}{5} \\right)^{k-1} = \\frac{15}{4}$$\n"
      ],
      "metadata": {
        "id": "54-Gv6yBUS5m"
      }
    },
    {
      "cell_type": "code",
      "source": [
        "#demostracion de la convergencia de la serie en codigo\n",
        "total=0\n",
        "for n in range(1,600 + 1):\n",
        " term=3*(1/5)**(n-1)\n",
        " total=total+term\n",
        "print(total)"
      ],
      "metadata": {
        "colab": {
          "base_uri": "https://localhost:8080/"
        },
        "id": "MM8hYTk1XMo8",
        "outputId": "0d9af066-9411-4e38-fa28-fe463a758ce2"
      },
      "execution_count": null,
      "outputs": [
        {
          "output_type": "stream",
          "name": "stdout",
          "text": [
            "3.750000000000001\n"
          ]
        }
      ]
    },
    {
      "cell_type": "markdown",
      "source": [
        "###### <font color=\"e45ab2\"> **17.** </font>\n",
        "$\\sum_{k=1}^{∞}\\frac{(-1)^{k-1}}{2^{k-1}}$"
      ],
      "metadata": {
        "id": "NTMfbI-usIDE"
      }
    },
    {
      "cell_type": "markdown",
      "source": [
        "R//.\n",
        ">$\\sum_{k=1}^{∞}\\frac{(-1)^{k-1}}{2^{k-1}}$\n",
        "\n",
        ">$=\\sum_{k=1}^{∞}\\frac{\\frac{-1^{k}}{-1}}{\\frac{2^{k}}{2}}$\n",
        "\n",
        ">$=\\sum_{k=1}^{∞}\\frac{2(-1)^{k}}{-1(2)^{k}}$\n",
        "\n",
        ">$=-2\\sum_{k=1}^{∞}\\frac{(-1)^{k}}{(2)^{k}}$\n",
        "\n",
        ">$=-2\\sum_{k=1}^{∞}(-\\frac{1}{2})^k$\n",
        "\n",
        "Al ser la razón $<1$ podemos afirmar que la serie converge.\n",
        "\n",
        "$\\sum_{}^{}=\\frac{1}{1-(-\\frac{1}{2})}=\\frac{1}{\\frac{3}{2}}=\\frac{2}{3}$\n",
        "\n",
        "El resultado de la serie es: $\\frac{2}{3}$"
      ],
      "metadata": {
        "id": "iSKKFqvRttE7"
      }
    },
    {
      "cell_type": "markdown",
      "source": [
        "###### <font color=\"e45ab2\"> **19.** </font>\n",
        "$\\sum_{r=1}^{∞}5^{r}4^{-r}$"
      ],
      "metadata": {
        "id": "W9oWWHvzsKkE"
      }
    },
    {
      "cell_type": "markdown",
      "source": [
        "R//.\n",
        ">$\\sum_{r=1}^{∞}5^{r}4^{-r}$\n",
        "\n",
        ">$=\\sum_{r=1}^{∞}5^{r}(4^{-1})^r$\n",
        "\n",
        ">$=\\sum_{r=1}^{∞}5^{r}(\\frac{1}{4})^r$\n",
        "\n",
        ">$=\\sum_{r=1}^{∞}(5*\\frac{1}{4})^r$\n",
        "\n",
        ">$=\\sum_{r=1}^{∞}(\\frac{5}{4})^r$\n",
        "\n",
        "Al ser la razón $\\frac{5}{4}>1$ podemos afirmar que la serie diverge."
      ],
      "metadata": {
        "id": "CBFAWsGvt4v5"
      }
    },
    {
      "cell_type": "markdown",
      "source": [
        "###### <font color=\"e45ab2\"> **22.** </font>\n",
        "$\\sum_{n=1}^{∞}\\frac{(1.1)^{n}}{1000}$"
      ],
      "metadata": {
        "id": "JF2njK2DsMqU"
      }
    },
    {
      "cell_type": "markdown",
      "source": [
        "R//.\n",
        ">$\\sum_{n=1}^{∞}\\frac{(1.1)^{n}}{1000}$\n",
        "\n",
        ">$=\\sum_{n=1}^{∞}\\frac{1}{1000}*(1.1)^n$\n",
        "\n",
        ">$=\\frac{1}{1000}\\sum_{r=1}^{∞}(1.1)^n$\n",
        "\n",
        "Al ser la razón $1.1>1$ podemos afirmar que la serie diverge."
      ],
      "metadata": {
        "id": "cKD6DulSuBZH"
      }
    },
    {
      "cell_type": "markdown",
      "source": [
        "###### <font color=\"e45ab2\"> **23.** </font>\n",
        "$\\sum_{n=0}^{∞}\\frac{1}{(\\sqrt{3}-\\sqrt{2})^{n}}$\n"
      ],
      "metadata": {
        "id": "6lTa0c1LsOOz"
      }
    },
    {
      "cell_type": "markdown",
      "source": [
        "R//.\n",
        ">$\\sum_{n=0}^{∞}\\frac{1}{(\\sqrt{3}-\\sqrt{2})^{n}}$\n",
        "\n",
        ">$=\\sum_{n=0}^{∞}\\frac{1}{0.31783724519^{n}}$\n",
        "\n",
        ">$=\\sum_{n=0}^{∞}\\frac{1}{0.31783724519^{n}}$\n",
        "\n",
        ">$=\\sum_{n=0}^{∞}\\frac{1^n}{0.31783724519^{n}}$\n",
        "\n",
        ">$=\\sum_{n=0}^{∞}(\\frac{1}{0.31783724519})^n$\n",
        "\n",
        ">=$\\frac{1}{0.31783724519}=3.14626436994$\n",
        "\n",
        ">=$\\sum_{n=0}^{∞}3.14626436994^n$\n",
        "\n",
        "Al ser la razón $3.14626436994>1$ podemos afirmar que la serie diverge."
      ],
      "metadata": {
        "id": "C6NaaOsJt_lc"
      }
    },
    {
      "cell_type": "markdown",
      "source": [
        "##### <font color=\"e45ab2\"> **Escriba cada número decimal que se repite como un cociente de enteros**"
      ],
      "metadata": {
        "id": "dUV6A5CqsgnX"
      }
    },
    {
      "cell_type": "markdown",
      "source": [
        "###### <font color=\"e45ab2\"> **25.** </font> $0.222\\dots$\n",
        "$\\frac{2}{10}+\\frac{2}{100}+\\frac{2}{1000}+\\frac{2}{10000}+\\dots+\\frac{2}{10^n}$"
      ],
      "metadata": {
        "id": "Rsf2R6lGs0fv"
      }
    },
    {
      "cell_type": "markdown",
      "source": [
        "###### <font color=\"e45ab2\"> **28.** </font> $0.393939\\dots$\n",
        "$\\frac{3}{10}+\\frac{9}{100}+\\frac{3}{1000}+\\frac{9}{10000}+\\frac{3}{100000}+\\frac{9}{1000000}+\\dots$"
      ],
      "metadata": {
        "id": "vyExALwds3Kk"
      }
    },
    {
      "cell_type": "markdown",
      "source": [
        "##### <font color=\"e45ab2\"> **Encuentre la suma de las series dadas**"
      ],
      "metadata": {
        "id": "rImDpC0AmQVn"
      }
    },
    {
      "cell_type": "markdown",
      "source": [
        "###### <font color=\"e45ab2\"> **31.** </font>\n",
        "$\\sum_{k=1}^{\\infty} \\left[ \\left( \\frac{1}{3} \\right)^{k-1} + \\left( \\frac{1}{4} \\right)^{k-1} \\right]\n",
        "$"
      ],
      "metadata": {
        "id": "lDP8_4yVmYL-"
      }
    },
    {
      "cell_type": "markdown",
      "source": [
        "1. Calculamos:\n",
        "$$\\sum_{k=1}^{\\infty} \\left( \\frac{1}{3} \\right)^{k-1}$$\n",
        "$r=\\frac{1}{3}$ y $k_1=1$\n",
        "\n",
        "$$S_1 = \\frac{1}{1 - \\frac{1}{3}} = \\frac{1}{\\frac{2}{3}} = \\frac{3}{2}\n",
        "$$\n",
        "\n",
        "2. Calculamos:\n",
        "$$\\sum_{k=1}^{\\infty} \\left( \\frac{1}{4} \\right)^{k-1}$$\n",
        "$r=\\frac{1}{4}$ y $k_1=1$\n",
        "$$S_2 = \\frac{1}{1 - \\frac{1}{4}} = \\frac{1}{\\frac{3}{4}} = \\frac{4}{3}$$\n",
        "\n",
        "3. Por ultimo, sumamos ambas series:\n",
        "$$S = S_1 + S_2 = \\frac{3}{2} + \\frac{4}{3} = \\frac{9}{6} + \\frac{8}{6} = \\frac{17}{6}$$\n",
        "\n",
        "$$\\sum_{k=1}^{\\infty} \\left[ \\left( \\frac{1}{3} \\right)^{k-1} + \\left( \\frac{1}{4} \\right)^{k-1} \\right] = \\frac{17}{6}$$"
      ],
      "metadata": {
        "id": "I1v6XcI0mpsu"
      }
    },
    {
      "cell_type": "code",
      "source": [
        "##Calculo por Python##\n",
        "import sympy as sym\n",
        "k=sym.Symbol('k')\n",
        "sym.summation(sym.Rational(1,3)**(k-1)+sym.Rational(1,4)**(k-1),(k,1,sym.oo))\n"
      ],
      "metadata": {
        "colab": {
          "base_uri": "https://localhost:8080/",
          "height": 51
        },
        "id": "5OL6Aa3wpSTG",
        "outputId": "e60a71d8-f9a8-4408-8896-03cb42880c4a"
      },
      "execution_count": null,
      "outputs": [
        {
          "output_type": "execute_result",
          "data": {
            "text/plain": [
              "17/6"
            ],
            "text/latex": "$\\displaystyle \\frac{17}{6}$"
          },
          "metadata": {},
          "execution_count": 7
        }
      ]
    },
    {
      "cell_type": "markdown",
      "source": [
        "##### <font color=\"e45ab2\"> **Muestre que la serie dada es divergente**"
      ],
      "metadata": {
        "id": "qycUGdMUpY74"
      }
    },
    {
      "cell_type": "markdown",
      "source": [
        "###### <font color=\"e45ab2\"> **33.** </font>\n",
        " $\\sum_{k=1}^{\\infty} 10$\n"
      ],
      "metadata": {
        "id": "CR1ou27Kph7j"
      }
    },
    {
      "cell_type": "markdown",
      "source": [
        "> La serie es divergente porque los términos de la sucesión no tienden a 0, sino que son constantes e iguales a 10. Para que una serie infinita converja, es necesario que los términos de la sucesión tiendan a 0. En este caso, como los términos son siempre 10, la serie diverge."
      ],
      "metadata": {
        "id": "VNYQ1A4urxNI"
      }
    },
    {
      "cell_type": "markdown",
      "source": [
        "###### <font color=\"e45ab2\"> **37.** </font>\n",
        "$\\sum_{k=1}^{\\infty}(-1)^k$\n"
      ],
      "metadata": {
        "id": "Ld2pNqKy7JVK"
      }
    },
    {
      "cell_type": "markdown",
      "source": [
        "> La sumatoria es divergente porque la sucesión es oscilante. A medida que se van sumando los términos, no es posible establecer con certeza a qué número se acerca."
      ],
      "metadata": {
        "id": "nafSvyhhr2Mc"
      }
    },
    {
      "cell_type": "markdown",
      "source": [
        "###### <font color=\"e45ab2\"> **40.** </font>\n",
        "$\\sum_{k=1}^{\\infty}\\frac{1}{6k}$\n"
      ],
      "metadata": {
        "id": "pMQ-PUT2EJsG"
      }
    },
    {
      "cell_type": "markdown",
      "source": [
        "> La sumatoria es divergente porque la sucesión es armónica. A medida que se van sumando los términos, el numerador crece cada vez y la sumatoria sigue aumentando hasta el inifnito:\n",
        "$6\\sum_{k=1}^{\\infty}\\frac{1}{k} = 1+ \\frac{1}{2} + \\frac{1}{3} + \\frac{1}{4}+\\dots $"
      ],
      "metadata": {
        "id": "Xhhtd3K1rzyx"
      }
    },
    {
      "cell_type": "markdown",
      "source": [
        "##### <font color=\"e45ab2\"> **Ejercicios de aplicación**"
      ],
      "metadata": {
        "id": "Xcg4q15LYEmD"
      }
    },
    {
      "cell_type": "markdown",
      "source": [
        "###### <font color=\"e45ab2\"> **47.** </font> Se deja caer una pelota desde una altura inicial de 15 pies sobre una plancha de concreto. Cada vez que la pelota rebota, alcanza una altura de $\\frac{2}{3}$ de su altura precedente. Recurra a la serie geométrica para determinar la distancia que la pelota recorre antes de quedar en reposo."
      ],
      "metadata": {
        "id": "Konhd069YazE"
      }
    },
    {
      "cell_type": "markdown",
      "source": [
        "1. Encontramos la fórmula para el término n-ésimo de la sucesión:\n",
        "$$15\\left( \\frac{2}{3} \\right)^n$$\n",
        "$r=\\frac{2}{3}$ y $a_1=15$\n",
        "> Esta formula se da ya que la altura inicial fue de 15, y cada rebote hace que la pelota disminuya en 2/3 su altura, por lo cual cada rebote representa a n.\n",
        "2. Escribimos la sumatoria que describe la distancia total recorrida por la pelota:\n",
        "$$\\sum_{n\\to 0}^{\\infty}15\\left( \\frac{2}{3} \\right)^n$$\n",
        "\n",
        "3. Como $0\\lt r\\lt 1$, entonces:\n",
        "$$ S=\\frac{15}{1-\\frac{2}{3}} = \\frac{15}{\\frac{1}{3}}=45$$\n",
        "\n",
        "> **Conclusiones:**\n",
        "* La distancia total que habrá recorrido la pelota sería de aproximadamente $45$ pies."
      ],
      "metadata": {
        "id": "KwjfsRomY2FR"
      }
    },
    {
      "cell_type": "code",
      "source": [
        "#demostracion de la convergencia de la serie en codigo\n",
        "total=0\n",
        "for n in range(0,22 + 1):\n",
        " term=15*(2/3)**(n)\n",
        " total=total+term\n",
        "print(total)"
      ],
      "metadata": {
        "id": "ExxQU5wdcoyD"
      },
      "execution_count": null,
      "outputs": []
    },
    {
      "cell_type": "markdown",
      "source": [
        "###### <font color=\"e45ab2\"> **51.** </font>  Un paciente toma 15 mg de un fármaco diariamente. Si 80% del fármaco acumulado se excreta cada día mediante las funciones corporales, ¿qué cantidad del fármaco se acumulará después de un largo periodo, esto es, cuando(Suponga que la medición de la acumulación se hace inmediatamente después de cada dosis)"
      ],
      "metadata": {
        "id": "mSvO8JnmdBIW"
      }
    },
    {
      "cell_type": "markdown",
      "source": [
        "1. Definimos el problema en términos de una sucesión:\n",
        "$$a_n = 15 + 0.2 \\cdot a_{n-1}$$\n",
        "Donde:\n",
        " - $15\\,{mg} $ es la dosis diaria que toma el paciente.\n",
        " - El $20$% del fármaco (es decir, $\\frac{1}{5} \\cdot a_{n-1}$) permanece en el cuerpo tras un día.\n",
        "2. Encontramos la fórmula para el término n-ésimo de la sucesión:\n",
        "$$a_n = 15\\cdot \\left( \\frac{1}{5} \\right)^n $$\n",
        "$r=\\frac{1}{5}$ y $a_1=15$\n",
        "\n",
        "3. Escribimos la sumatoria que describe la cantidad de fármaco acumulada luego de un largo periodo de tiempo:\n",
        "$$\\sum_{n\\to 0}^{\\infty} 15\\cdot \\left( \\frac{1}{5} \\right)^n$$\n",
        "\n",
        "4. Como $0\\lt r\\lt 1$, entonces:\n",
        "$$S = \\frac{15}{1 - \\frac{1}{5}} = \\frac{75}{4} = 18.75 \\, \\text{}$$\n",
        "\n",
        "> **Conclusiones:**\n",
        "* La cantidad de fármaco que se acumulará en el cuerpo después de un largo periodo de tiempo es: $18.75\\,{mg}$\n",
        "* Esto significa que, en el largo plazo, la cantidad de fármaco presente en el cuerpo del paciente no superará los $ 18.75 \\,{mg} $"
      ],
      "metadata": {
        "id": "kafBbsNgdMkb"
      }
    },
    {
      "cell_type": "code",
      "source": [
        "n = sym.Symbol('n')\n",
        "dosis_diaria = 15\n",
        "tasa_retencion = sym.Rational(1, 5)  # 20% del fármaco permanece (1/5)\n",
        "\n",
        "# Se define la serie geométrica\n",
        "serie = dosis_diaria * tasa_retencion**(n-1)\n",
        "\n",
        "# Calculo de la suma infinita\n",
        "suma_infinita = sym.summation(serie, (n, 1, sym.oo))\n",
        "\n",
        "# Convertir el resultado a decimal\n",
        "suma_infinita_decimal = suma_infinita.evalf()\n",
        "\n",
        "mensaje = f\"En el largo plazo, la cantidad de fármaco presente en el cuerpo del paciente no superará los {suma_infinita_decimal:.2f} mg.\"\n",
        "\n",
        "print(mensaje)"
      ],
      "metadata": {
        "colab": {
          "base_uri": "https://localhost:8080/"
        },
        "id": "6yGCEAe-i2j7",
        "outputId": "3bc9ffc7-4618-47de-913f-ffa7b887fd51"
      },
      "execution_count": null,
      "outputs": [
        {
          "output_type": "stream",
          "name": "stdout",
          "text": [
            "En el largo plazo, la cantidad de fármaco presente en el cuerpo del paciente no superará los 18.75 mg.\n"
          ]
        }
      ]
    },
    {
      "cell_type": "markdown",
      "source": [
        "###### <font color=\"e45ab2\"> **66.** </font> Utilice una serie infinita para resolver la paradoja de Zenón. Suponga que cada uno se mueve con una velocidad constante. Ayudaría inventar valores razonables para ubicar en el inicio la cabeza de la tortuga y para las dos velocidades."
      ],
      "metadata": {
        "id": "4kf5pa7oG7D6"
      }
    },
    {
      "cell_type": "markdown",
      "source": [
        "1. Definimos las variables que vamos a utilizar:\n",
        "* Punto A = $0$    <font color=\"9b9b9b\"> //Punto de partida de Aquiles </font>\n",
        "* Punto T = $10$   <font color=\"9b9b9b\"> //Punto de partida de la tortuga </font>\n",
        "* $d_0 = 10$     <font color=\"9b9b9b\"> //Distancia entre el punto A y el T </font>\n",
        "* $v_a = 9$      <font color=\"9b9b9b\"> //Velocidad de Aquiles (m/s)</font>  \n",
        "* $v_t = 0.03$      <font color=\"9b9b9b\"> //Velocidad de la tortuga(m/s) </font>     \n",
        "\n",
        "2. Planteamos una sucesión de acuerdo con el planteamiento del problema:\n",
        "* Aquiles se tarda un tiempo $t_1$ en alcanzar el punto de inicio de la tortuga. Esto sería:\n",
        "$$t_1=\\frac{d_0}{v_a}$$\n",
        "\n",
        "* Durante ese tiempo $t_1$, la tortuga habrá recorrido una distancia $d_1$:\n",
        "$$d_1=t_1 . v_t \\to d_1=\\frac{d_0}{v_a} . v_t $$\n",
        "\n",
        "* Aquiles va a tardar un tiempo $t_2$ en alcanzar el nuevo punto de la tortuga.\n",
        "$$t_2=\\frac{d_1}{v_a}\\to t_2=\\frac{\\frac{d_0}{v_a}.v_t}{v_a} \\to t_2= \\frac{d_0}{v_a^2}.v_t$$\n",
        "\n",
        "* Y durante ese tiempo $t_2$, la tortuga habrá recorrido una distancia $d_2$:\n",
        "$$d_2=t_2 . v_t \\to d_2=\\frac{d_0}{v_a^2}.v_t.v_t \\to d_2=\\frac{v_t^2}{v_a^2}.d_0$$\n",
        "\n",
        "* Como este proceso se repite una y otra vez, en este punto hemos hallado la regularidad que nos va a permitir escribir la fórmula del término $n-$ésimo: $$d_n = \\left( \\frac{v_t}{v_a} \\right)^{n}.d_0$$ $$t_n = \\frac{d_n}{v_a} \\to t_n = \\frac{\\left( \\frac{v_t}{v_a} \\right)^{n}.d_0}{v_a}  \\to t_n = \\left( \\frac{v_t}{v_a} \\right)^{n}.\\frac{d_0}{v_a}$$\n",
        "\n",
        "3. Para resolver la paradoja, hay que calcular la sumatoria de la sucesión geométrica que encontramos: $t_n = \\left( \\frac{0.03}{9} \\right)^{n}.\\frac{10}{9}$ para $n=0,1,2,\\dots$\n",
        "$$\\sum_{n=0}^{\\infty}\\left( \\frac{0.03}{9} \\right)^{n}.\\frac{10}{9}$$\n",
        "\n",
        "* La razón de la sucesión es $\\frac{0.03}{9}$ y su primer término es $\\frac{10}{9}$. Como $0\\lt r\\lt 1$ entonces:\n",
        "$$\\frac{\\frac{10}{9}}{1-\\frac{0.03}{9}} \\to \\frac{\\frac{10}{9}}{\\frac{8.97}{9}} \\to \\frac{10}{9}.\\frac{9}{8.97} \\to \\frac{10}{8.97} $$\n",
        "\n",
        "> **Conclusiones:**\n",
        "* Como la velocidad de Aquiles es mayor a la de la tortuga, cuando $n \\to \\infty$ la sucesión va tomando valores cada vez más pequeños. A Aquiles cada vez le tomará menos tiempo alcanzar la distancia que ha recorrido la tortuga.\n",
        "* Como la sumatoria de los tiempos que Aquiles tarda en alcanzar la distancia recorrida por la tortuga converge, entonces Aquiles podrá alcanzarla en un tiempo finito.\n",
        "* El tiempo total que demoraría Aquiles en alcanzar a la tortuga, con los valores hipotéticos del problema, es de $1.11$ segundos aproximadamente. Y para cualquier otro valor, es de $\\frac{d_0}{v_a-v_t}$"
      ],
      "metadata": {
        "id": "fT_JaWKjYH11"
      }
    },
    {
      "cell_type": "code",
      "source": [
        "#demostracion de la convergencia de la serie en codigo\n",
        "total=0\n",
        "for n in range(0,22 + 1):\n",
        " term=(10/9)*(0.03/9)**(n)\n",
        " total=total+term\n",
        "print(total)"
      ],
      "metadata": {
        "colab": {
          "base_uri": "https://localhost:8080/"
        },
        "id": "D7HpPbYccrtR",
        "outputId": "0432f393-4b00-404d-d260-9977d9ebbefa"
      },
      "execution_count": null,
      "outputs": [
        {
          "output_type": "stream",
          "name": "stdout",
          "text": [
            "1.1148272017837237\n"
          ]
        }
      ]
    }
  ]
}